{
 "cells": [
  {
   "cell_type": "markdown",
   "id": "instant-judges",
   "metadata": {},
   "source": [
    "#專案說明\n",
    "\n",
    "##探討2020年至2021年期間\n",
    "台灣地區的旅館租屋價格、平均住房率、餐飲與旅館業失業率、Covid-19確診以及國際機場旅客數的相關性\n",
    "經過另一個專案裡Tableau的圖示 發現底下的欄位\n",
    "\n",
    "[餐飲與住宿的失業率] 與 [月確診數]\n",
    "[旅館住用率]與 [月確診數]\n",
    "\n",
    "可能有相關性的關聯\n",
    "希望透過Python的輔助來檢視其相關性的高低\n",
    "\n",
    "##資料來源\n",
    "和Tableau採用相同的資料集\n",
    "彙整自底下連結：\n",
    "\n",
    "交通部統計查詢網：https://stat.motc.gov.tw/mocdb/stmain.jsp?sys=100\n",
    "勞動部統計查詢網：https://statdb.mol.gov.tw/statis/jspProxy.aspx?sys=210&kind=21&type=1&funid=q020751&rdm=R97692\n",
    "政府資料開放平台：https://data.gov.tw/dataset/151770\n",
    "\n",
    "整理後的excel請參考:Portfolio_Project_Covid19與旅遊業資訊的相關性分析.csv"
   ]
  },
  {
   "cell_type": "code",
   "execution_count": 1,
   "id": "indian-carolina",
   "metadata": {},
   "outputs": [
    {
     "data": {
      "text/html": [
       "<div>\n",
       "<style scoped>\n",
       "    .dataframe tbody tr th:only-of-type {\n",
       "        vertical-align: middle;\n",
       "    }\n",
       "\n",
       "    .dataframe tbody tr th {\n",
       "        vertical-align: top;\n",
       "    }\n",
       "\n",
       "    .dataframe thead th {\n",
       "        text-align: right;\n",
       "    }\n",
       "</style>\n",
       "<table border=\"1\" class=\"dataframe\">\n",
       "  <thead>\n",
       "    <tr style=\"text-align: right;\">\n",
       "      <th></th>\n",
       "      <th>yyyy_mm</th>\n",
       "      <th>avg_price</th>\n",
       "      <th>avg_rent</th>\n",
       "      <th>isic_ur</th>\n",
       "      <th>month_cases</th>\n",
       "      <th>airport_passengers</th>\n",
       "    </tr>\n",
       "  </thead>\n",
       "  <tbody>\n",
       "    <tr>\n",
       "      <th>0</th>\n",
       "      <td>202001</td>\n",
       "      <td>3741</td>\n",
       "      <td>46.59%</td>\n",
       "      <td>5.10%</td>\n",
       "      <td>8</td>\n",
       "      <td>5021755</td>\n",
       "    </tr>\n",
       "    <tr>\n",
       "      <th>1</th>\n",
       "      <td>202002</td>\n",
       "      <td>3188</td>\n",
       "      <td>31.50%</td>\n",
       "      <td>3.71%</td>\n",
       "      <td>17</td>\n",
       "      <td>2396741</td>\n",
       "    </tr>\n",
       "    <tr>\n",
       "      <th>2</th>\n",
       "      <td>202003</td>\n",
       "      <td>2885</td>\n",
       "      <td>19.22%</td>\n",
       "      <td>3.93%</td>\n",
       "      <td>27</td>\n",
       "      <td>637606</td>\n",
       "    </tr>\n",
       "    <tr>\n",
       "      <th>3</th>\n",
       "      <td>202004</td>\n",
       "      <td>3012</td>\n",
       "      <td>16.22%</td>\n",
       "      <td>7.29%</td>\n",
       "      <td>3</td>\n",
       "      <td>42547</td>\n",
       "    </tr>\n",
       "    <tr>\n",
       "      <th>4</th>\n",
       "      <td>202005</td>\n",
       "      <td>2802</td>\n",
       "      <td>24.17%</td>\n",
       "      <td>7.78%</td>\n",
       "      <td>0</td>\n",
       "      <td>48224</td>\n",
       "    </tr>\n",
       "    <tr>\n",
       "      <th>5</th>\n",
       "      <td>202006</td>\n",
       "      <td>3049</td>\n",
       "      <td>42.03%</td>\n",
       "      <td>6.67%</td>\n",
       "      <td>0</td>\n",
       "      <td>59175</td>\n",
       "    </tr>\n",
       "    <tr>\n",
       "      <th>6</th>\n",
       "      <td>202007</td>\n",
       "      <td>3367</td>\n",
       "      <td>55.36%</td>\n",
       "      <td>5.91%</td>\n",
       "      <td>0</td>\n",
       "      <td>96791</td>\n",
       "    </tr>\n",
       "    <tr>\n",
       "      <th>7</th>\n",
       "      <td>202008</td>\n",
       "      <td>3614</td>\n",
       "      <td>58.93%</td>\n",
       "      <td>4.85%</td>\n",
       "      <td>0</td>\n",
       "      <td>115553</td>\n",
       "    </tr>\n",
       "    <tr>\n",
       "      <th>8</th>\n",
       "      <td>202009</td>\n",
       "      <td>3092</td>\n",
       "      <td>53.47%</td>\n",
       "      <td>4.37%</td>\n",
       "      <td>0</td>\n",
       "      <td>106873</td>\n",
       "    </tr>\n",
       "    <tr>\n",
       "      <th>9</th>\n",
       "      <td>202010</td>\n",
       "      <td>3385</td>\n",
       "      <td>56.98%</td>\n",
       "      <td>6.53%</td>\n",
       "      <td>0</td>\n",
       "      <td>101924</td>\n",
       "    </tr>\n",
       "    <tr>\n",
       "      <th>10</th>\n",
       "      <td>202011</td>\n",
       "      <td>3164</td>\n",
       "      <td>47.24%</td>\n",
       "      <td>6.30%</td>\n",
       "      <td>0</td>\n",
       "      <td>106466</td>\n",
       "    </tr>\n",
       "    <tr>\n",
       "      <th>11</th>\n",
       "      <td>202012</td>\n",
       "      <td>3315</td>\n",
       "      <td>45.38%</td>\n",
       "      <td>5.90%</td>\n",
       "      <td>0</td>\n",
       "      <td>97672</td>\n",
       "    </tr>\n",
       "    <tr>\n",
       "      <th>12</th>\n",
       "      <td>202101</td>\n",
       "      <td>3453</td>\n",
       "      <td>38.27%</td>\n",
       "      <td>3.69%</td>\n",
       "      <td>19</td>\n",
       "      <td>111799</td>\n",
       "    </tr>\n",
       "    <tr>\n",
       "      <th>13</th>\n",
       "      <td>202102</td>\n",
       "      <td>4226</td>\n",
       "      <td>44.50%</td>\n",
       "      <td>4.64%</td>\n",
       "      <td>2</td>\n",
       "      <td>67630</td>\n",
       "    </tr>\n",
       "    <tr>\n",
       "      <th>14</th>\n",
       "      <td>202103</td>\n",
       "      <td>3251</td>\n",
       "      <td>42.78%</td>\n",
       "      <td>5.30%</td>\n",
       "      <td>0</td>\n",
       "      <td>90305</td>\n",
       "    </tr>\n",
       "    <tr>\n",
       "      <th>15</th>\n",
       "      <td>202104</td>\n",
       "      <td>3483</td>\n",
       "      <td>50.78%</td>\n",
       "      <td>5.36%</td>\n",
       "      <td>26</td>\n",
       "      <td>93730</td>\n",
       "    </tr>\n",
       "    <tr>\n",
       "      <th>16</th>\n",
       "      <td>202105</td>\n",
       "      <td>3244</td>\n",
       "      <td>23.07%</td>\n",
       "      <td>6.82%</td>\n",
       "      <td>8789</td>\n",
       "      <td>78887</td>\n",
       "    </tr>\n",
       "    <tr>\n",
       "      <th>17</th>\n",
       "      <td>202106</td>\n",
       "      <td>3173</td>\n",
       "      <td>7.73%</td>\n",
       "      <td>10.06%</td>\n",
       "      <td>4831</td>\n",
       "      <td>76621</td>\n",
       "    </tr>\n",
       "    <tr>\n",
       "      <th>18</th>\n",
       "      <td>202107</td>\n",
       "      <td>3545</td>\n",
       "      <td>10.47%</td>\n",
       "      <td>8.56%</td>\n",
       "      <td>669</td>\n",
       "      <td>81987</td>\n",
       "    </tr>\n",
       "    <tr>\n",
       "      <th>19</th>\n",
       "      <td>202108</td>\n",
       "      <td>3772</td>\n",
       "      <td>28.09%</td>\n",
       "      <td>6.76%</td>\n",
       "      <td>149</td>\n",
       "      <td>88107</td>\n",
       "    </tr>\n",
       "    <tr>\n",
       "      <th>20</th>\n",
       "      <td>202109</td>\n",
       "      <td>3641</td>\n",
       "      <td>32.25%</td>\n",
       "      <td>5.87%</td>\n",
       "      <td>41</td>\n",
       "      <td>79130</td>\n",
       "    </tr>\n",
       "    <tr>\n",
       "      <th>21</th>\n",
       "      <td>202110</td>\n",
       "      <td>3670</td>\n",
       "      <td>41.36%</td>\n",
       "      <td>6.19%</td>\n",
       "      <td>9</td>\n",
       "      <td>77494</td>\n",
       "    </tr>\n",
       "    <tr>\n",
       "      <th>22</th>\n",
       "      <td>202111</td>\n",
       "      <td>3413</td>\n",
       "      <td>49.84%</td>\n",
       "      <td>5.59%</td>\n",
       "      <td>1</td>\n",
       "      <td>75914</td>\n",
       "    </tr>\n",
       "    <tr>\n",
       "      <th>23</th>\n",
       "      <td>202112</td>\n",
       "      <td>3655</td>\n",
       "      <td>51.70%</td>\n",
       "      <td>4.68%</td>\n",
       "      <td>18</td>\n",
       "      <td>102002</td>\n",
       "    </tr>\n",
       "  </tbody>\n",
       "</table>\n",
       "</div>"
      ],
      "text/plain": [
       "    yyyy_mm  avg_price avg_rent isic_ur  month_cases  airport_passengers\n",
       "0    202001       3741   46.59%   5.10%            8             5021755\n",
       "1    202002       3188   31.50%   3.71%           17             2396741\n",
       "2    202003       2885   19.22%   3.93%           27              637606\n",
       "3    202004       3012   16.22%   7.29%            3               42547\n",
       "4    202005       2802   24.17%   7.78%            0               48224\n",
       "5    202006       3049   42.03%   6.67%            0               59175\n",
       "6    202007       3367   55.36%   5.91%            0               96791\n",
       "7    202008       3614   58.93%   4.85%            0              115553\n",
       "8    202009       3092   53.47%   4.37%            0              106873\n",
       "9    202010       3385   56.98%   6.53%            0              101924\n",
       "10   202011       3164   47.24%   6.30%            0              106466\n",
       "11   202012       3315   45.38%   5.90%            0               97672\n",
       "12   202101       3453   38.27%   3.69%           19              111799\n",
       "13   202102       4226   44.50%   4.64%            2               67630\n",
       "14   202103       3251   42.78%   5.30%            0               90305\n",
       "15   202104       3483   50.78%   5.36%           26               93730\n",
       "16   202105       3244   23.07%   6.82%         8789               78887\n",
       "17   202106       3173    7.73%  10.06%         4831               76621\n",
       "18   202107       3545   10.47%   8.56%          669               81987\n",
       "19   202108       3772   28.09%   6.76%          149               88107\n",
       "20   202109       3641   32.25%   5.87%           41               79130\n",
       "21   202110       3670   41.36%   6.19%            9               77494\n",
       "22   202111       3413   49.84%   5.59%            1               75914\n",
       "23   202112       3655   51.70%   4.68%           18              102002"
      ]
     },
     "execution_count": 1,
     "metadata": {},
     "output_type": "execute_result"
    }
   ],
   "source": [
    "#載入需要的模組以及csv檔案\n",
    "import pandas as pd\n",
    "import numpy as np\n",
    "import seaborn as sns\n",
    "\n",
    "import matplotlib\n",
    "import matplotlib.pyplot as plt\n",
    "plt.style.use('ggplot')\n",
    "from matplotlib.pyplot import figure\n",
    "\n",
    "%matplotlib inline\n",
    "\n",
    "df = pd.read_csv('Portfolio_Project_Covid19與旅遊業資訊的相關性分析.csv')\n",
    "df\n"
   ]
  },
  {
   "cell_type": "markdown",
   "id": "fundamental-fantasy",
   "metadata": {},
   "source": [
    "#欄位說明\n",
    "yyyy_mm:確診年月\n",
    "avg_price:旅館平均價格\n",
    "avg_rent:旅館平均住用率\n",
    "isic_ur:餐飲與住宿的失業率\n",
    "month_cases:每月確診數\n",
    "airport_passengers:台灣地區四大國際機場(台北/桃園/台中/高雄)的旅客數"
   ]
  },
  {
   "cell_type": "code",
   "execution_count": 2,
   "id": "elder-attention",
   "metadata": {},
   "outputs": [
    {
     "name": "stdout",
     "output_type": "stream",
     "text": [
      "<class 'pandas.core.frame.DataFrame'>\n",
      "RangeIndex: 24 entries, 0 to 23\n",
      "Data columns (total 6 columns):\n",
      " #   Column              Non-Null Count  Dtype \n",
      "---  ------              --------------  ----- \n",
      " 0   yyyy_mm             24 non-null     int64 \n",
      " 1   avg_price           24 non-null     int64 \n",
      " 2   avg_rent            24 non-null     object\n",
      " 3   isic_ur             24 non-null     object\n",
      " 4   month_cases         24 non-null     int64 \n",
      " 5   airport_passengers  24 non-null     int64 \n",
      "dtypes: int64(4), object(2)\n",
      "memory usage: 1.2+ KB\n"
     ]
    }
   ],
   "source": [
    "#透過info()得知資料概況\n",
    "df.info()"
   ]
  },
  {
   "cell_type": "code",
   "execution_count": 3,
   "id": "attempted-coordinate",
   "metadata": {},
   "outputs": [
    {
     "data": {
      "text/plain": [
       "yyyy_mm               0\n",
       "avg_price             0\n",
       "avg_rent              0\n",
       "isic_ur               0\n",
       "month_cases           0\n",
       "airport_passengers    0\n",
       "dtype: int64"
      ]
     },
     "execution_count": 3,
     "metadata": {},
     "output_type": "execute_result"
    }
   ],
   "source": [
    "#利用isna()搭配sum()檢查有沒有Null\n",
    "df.isna().sum()"
   ]
  },
  {
   "cell_type": "code",
   "execution_count": 4,
   "id": "interior-passenger",
   "metadata": {},
   "outputs": [
    {
     "data": {
      "text/html": [
       "<div>\n",
       "<style scoped>\n",
       "    .dataframe tbody tr th:only-of-type {\n",
       "        vertical-align: middle;\n",
       "    }\n",
       "\n",
       "    .dataframe tbody tr th {\n",
       "        vertical-align: top;\n",
       "    }\n",
       "\n",
       "    .dataframe thead th {\n",
       "        text-align: right;\n",
       "    }\n",
       "</style>\n",
       "<table border=\"1\" class=\"dataframe\">\n",
       "  <thead>\n",
       "    <tr style=\"text-align: right;\">\n",
       "      <th></th>\n",
       "      <th>count</th>\n",
       "      <th>mean</th>\n",
       "      <th>std</th>\n",
       "      <th>min</th>\n",
       "      <th>25%</th>\n",
       "      <th>50%</th>\n",
       "      <th>75%</th>\n",
       "      <th>max</th>\n",
       "    </tr>\n",
       "  </thead>\n",
       "  <tbody>\n",
       "    <tr>\n",
       "      <th>yyyy_mm</th>\n",
       "      <td>24.0</td>\n",
       "      <td>202056.500000</td>\n",
       "      <td>5.119698e+01</td>\n",
       "      <td>202001.0</td>\n",
       "      <td>202006.75</td>\n",
       "      <td>202056.5</td>\n",
       "      <td>202106.25</td>\n",
       "      <td>202112.0</td>\n",
       "    </tr>\n",
       "    <tr>\n",
       "      <th>avg_price</th>\n",
       "      <td>24.0</td>\n",
       "      <td>3380.833333</td>\n",
       "      <td>3.229956e+02</td>\n",
       "      <td>2802.0</td>\n",
       "      <td>3170.75</td>\n",
       "      <td>3376.0</td>\n",
       "      <td>3620.75</td>\n",
       "      <td>4226.0</td>\n",
       "    </tr>\n",
       "    <tr>\n",
       "      <th>month_cases</th>\n",
       "      <td>24.0</td>\n",
       "      <td>608.708333</td>\n",
       "      <td>2.001808e+03</td>\n",
       "      <td>0.0</td>\n",
       "      <td>0.00</td>\n",
       "      <td>5.5</td>\n",
       "      <td>26.25</td>\n",
       "      <td>8789.0</td>\n",
       "    </tr>\n",
       "    <tr>\n",
       "      <th>airport_passengers</th>\n",
       "      <td>24.0</td>\n",
       "      <td>410622.208333</td>\n",
       "      <td>1.093148e+06</td>\n",
       "      <td>42547.0</td>\n",
       "      <td>77275.75</td>\n",
       "      <td>92017.5</td>\n",
       "      <td>106567.75</td>\n",
       "      <td>5021755.0</td>\n",
       "    </tr>\n",
       "  </tbody>\n",
       "</table>\n",
       "</div>"
      ],
      "text/plain": [
       "                    count           mean           std       min        25%  \\\n",
       "yyyy_mm              24.0  202056.500000  5.119698e+01  202001.0  202006.75   \n",
       "avg_price            24.0    3380.833333  3.229956e+02    2802.0    3170.75   \n",
       "month_cases          24.0     608.708333  2.001808e+03       0.0       0.00   \n",
       "airport_passengers   24.0  410622.208333  1.093148e+06   42547.0   77275.75   \n",
       "\n",
       "                         50%        75%        max  \n",
       "yyyy_mm             202056.5  202106.25   202112.0  \n",
       "avg_price             3376.0    3620.75     4226.0  \n",
       "month_cases              5.5      26.25     8789.0  \n",
       "airport_passengers   92017.5  106567.75  5021755.0  "
      ]
     },
     "execution_count": 4,
     "metadata": {},
     "output_type": "execute_result"
    }
   ],
   "source": [
    "#describe()搭配轉置矩陣快速得知資料概況\n",
    "df.describe().T"
   ]
  },
  {
   "cell_type": "code",
   "execution_count": 5,
   "id": "smoking-tender",
   "metadata": {},
   "outputs": [],
   "source": [
    "#稍後會用皮爾森相關係數檢驗個欄位之間的相關性\n",
    "#需要將avg_rent與isic_ur這兩個欄位轉為數字\n",
    "#故先將其利用string的型態移掉 % 符號 再將其轉成數字\n",
    "\n",
    "df['avg_rent'] = df['avg_rent'].astype('str').str[:-1]\n",
    "df['isic_ur'] = df['isic_ur'].astype('str').str[:-1]\n",
    "\n",
    "df['avg_rent'] = df['avg_rent'].astype('float')\n",
    "df['isic_ur'] = df['isic_ur'].astype('float')"
   ]
  },
  {
   "cell_type": "code",
   "execution_count": 6,
   "id": "grand-negotiation",
   "metadata": {},
   "outputs": [
    {
     "name": "stdout",
     "output_type": "stream",
     "text": [
      "<class 'pandas.core.frame.DataFrame'>\n",
      "RangeIndex: 24 entries, 0 to 23\n",
      "Data columns (total 6 columns):\n",
      " #   Column              Non-Null Count  Dtype  \n",
      "---  ------              --------------  -----  \n",
      " 0   yyyy_mm             24 non-null     int64  \n",
      " 1   avg_price           24 non-null     int64  \n",
      " 2   avg_rent            24 non-null     float64\n",
      " 3   isic_ur             24 non-null     float64\n",
      " 4   month_cases         24 non-null     int64  \n",
      " 5   airport_passengers  24 non-null     int64  \n",
      "dtypes: float64(2), int64(4)\n",
      "memory usage: 1.2 KB\n"
     ]
    }
   ],
   "source": [
    "#檢查每個欄位是否都為數字型態\n",
    "df.info()"
   ]
  },
  {
   "cell_type": "code",
   "execution_count": 7,
   "id": "integrated-tunnel",
   "metadata": {},
   "outputs": [
    {
     "data": {
      "image/png": "[encoded data removed]",
      "text/plain": [
       "<Figure size 432x288 with 2 Axes>"
      ]
     },
     "metadata": {
      "needs_background": "light"
     },
     "output_type": "display_data"
    }
   ],
   "source": [
    "#開始檢驗各個欄位的皮爾森相關係數\n",
    "corr_matrix= df.corr(method = 'pearson')\n",
    "\n",
    "sns.heatmap(corr_matrix,annot = True)\n",
    "\n",
    "plt.title('Correlation for All Columns')\n",
    "plt.xlabel('Columns')\n",
    "plt.ylabel('Columns')\n",
    "\n",
    "matplotlib.rcParams['figure.figsize'] = (50,15) #調整之後會出現的圖形\n",
    "\n",
    "plt.show()\n"
   ]
  },
  {
   "cell_type": "markdown",
   "id": "steady-generation",
   "metadata": {},
   "source": [
    "##意外的發現\n",
    "\n",
    "從相關性檢驗來看\n",
    "發現[餐飲與住宿的失業率] 和[旅館住用率] 也有負相關性\n",
    "\n",
    "在此一起檢驗\n",
    "[餐飲與住宿的失業率] 與 [月確診數]\n",
    "[餐飲與住宿的失業率] 與 [旅館住用率]\n",
    "[旅館住用率]與 [月確診數]\n"
   ]
  },
  {
   "cell_type": "markdown",
   "id": "fatty-environment",
   "metadata": {},
   "source": [
    "##[餐飲與住宿的失業率] 與 [月確診數]的相關性"
   ]
  },
  {
   "cell_type": "code",
   "execution_count": 14,
   "id": "forbidden-northern",
   "metadata": {
    "scrolled": false
   },
   "outputs": [
    {
     "data": {
      "image/png": "[encoded data removed]",
      "text/plain": [
       "<Figure size 360x360 with 1 Axes>"
      ]
     },
     "metadata": {
      "needs_background": "light"
     },
     "output_type": "display_data"
    }
   ],
   "source": [
    "#month_case和isic_ur之間有0.42的相關性 兩者提出來檢查散佈圖\n",
    "\n",
    "plt.scatter(x=df['isic_ur'], y=df['month_cases'])\n",
    "plt.title('Month_case and ISIC_UR')\n",
    "\n",
    "plt.xlabel('Month Case')\n",
    "plt.ylabel('ISIC UR')\n",
    "matplotlib.rcParams['figure.figsize'] = (5,5)\n",
    "plt.show()"
   ]
  },
  {
   "cell_type": "code",
   "execution_count": 9,
   "id": "postal-salvation",
   "metadata": {},
   "outputs": [
    {
     "data": {
      "text/plain": [
       "<AxesSubplot:xlabel='isic_ur', ylabel='month_cases'>"
      ]
     },
     "execution_count": 9,
     "metadata": {},
     "output_type": "execute_result"
    },
    {
     "data": {
      "image/png": "[encoded data removed]",
      "text/plain": [
       "<Figure size 360x360 with 1 Axes>"
      ]
     },
     "metadata": {
      "needs_background": "light"
     },
     "output_type": "display_data"
    }
   ],
   "source": [
    "#另外搭配輔助線來將相關性視覺化\n",
    "#得知已皮爾森相關係數來檢驗其實相關性其實並不明顯\n",
    "sns.regplot(x='isic_ur', y='month_cases' ,data = df, scatter_kws = {\"color\":\"red\"}, line_kws={\"color\":\"blue\"})"
   ]
  },
  {
   "cell_type": "markdown",
   "id": "devoted-express",
   "metadata": {},
   "source": [
    "##[餐飲與住宿的失業率] 與 [旅館住用率]"
   ]
  },
  {
   "cell_type": "code",
   "execution_count": 10,
   "id": "blind-conversion",
   "metadata": {},
   "outputs": [
    {
     "data": {
      "image/png": "[encoded data removed]",
      "text/plain": [
       "<Figure size 360x360 with 1 Axes>"
      ]
     },
     "metadata": {
      "needs_background": "light"
     },
     "output_type": "display_data"
    }
   ],
   "source": [
    "#另一方面檢驗avg_rent與isic_ur兩者之間的皮爾森相關係數-0.56的視覺化\n",
    "plt.scatter(x=df['avg_rent'], y=df['isic_ur'])\n",
    "plt.title('Month_case and ISIC_UR')\n",
    "\n",
    "plt.xlabel('Average Rent')\n",
    "plt.ylabel('ISIC UR')\n",
    "matplotlib.rcParams['figure.figsize'] = (5,5)\n",
    "plt.show()"
   ]
  },
  {
   "cell_type": "code",
   "execution_count": 11,
   "id": "figured-question",
   "metadata": {
    "scrolled": false
   },
   "outputs": [
    {
     "data": {
      "text/plain": [
       "<AxesSubplot:xlabel='avg_rent', ylabel='isic_ur'>"
      ]
     },
     "execution_count": 11,
     "metadata": {},
     "output_type": "execute_result"
    },
    {
     "data": {
      "image/png": "[encoded data removed]",
      "text/plain": [
       "<Figure size 360x360 with 1 Axes>"
      ]
     },
     "metadata": {
      "needs_background": "light"
     },
     "output_type": "display_data"
    }
   ],
   "source": [
    "#同樣搭配輔助線來檢驗相關性 這次可以看到avg_rent與isic_ur之間附相關收斂的程度比較明顯\n",
    "sns.regplot(x='avg_rent', y='isic_ur' ,data = df, scatter_kws = {\"color\":\"red\"}, line_kws={\"color\":\"blue\"})"
   ]
  },
  {
   "cell_type": "markdown",
   "id": "specialized-republican",
   "metadata": {},
   "source": [
    "##[旅館住用率]與 [月確診數] 的相關性"
   ]
  },
  {
   "cell_type": "code",
   "execution_count": 12,
   "id": "adaptive-vulnerability",
   "metadata": {},
   "outputs": [
    {
     "data": {
      "image/png": "[encoded data removed]",
      "text/plain": [
       "<Figure size 360x360 with 1 Axes>"
      ]
     },
     "metadata": {
      "needs_background": "light"
     },
     "output_type": "display_data"
    }
   ],
   "source": [
    "#另一方面檢驗avg_rent與month_cases兩者之間的皮爾森相關係數-0.43的視覺化\n",
    "plt.scatter(x=df['avg_rent'], y=df['month_cases'])\n",
    "plt.title('Month_case and ISIC_UR')\n",
    "\n",
    "plt.xlabel('Average Rent')\n",
    "plt.ylabel('ISIC UR')\n",
    "matplotlib.rcParams['figure.figsize'] = (5,5)\n",
    "plt.show()"
   ]
  },
  {
   "cell_type": "code",
   "execution_count": 13,
   "id": "damaged-seeker",
   "metadata": {},
   "outputs": [
    {
     "data": {
      "text/plain": [
       "<AxesSubplot:xlabel='avg_rent', ylabel='month_cases'>"
      ]
     },
     "execution_count": 13,
     "metadata": {},
     "output_type": "execute_result"
    },
    {
     "data": {
      "image/png": "[encoded data removed]",
      "text/plain": [
       "<Figure size 360x360 with 1 Axes>"
      ]
     },
     "metadata": {
      "needs_background": "light"
     },
     "output_type": "display_data"
    }
   ],
   "source": [
    "#另外兩個組合avg_rent與month_cases\n",
    "#輔助線來檢驗相關性 也可以看到負相關收斂的程度\n",
    "\n",
    "sns.regplot(x='avg_rent', y='month_cases' ,data = df, scatter_kws = {\"color\":\"red\"}, line_kws={\"color\":\"blue\"})"
   ]
  },
  {
   "cell_type": "code",
   "execution_count": null,
   "id": "turkish-plate",
   "metadata": {},
   "outputs": [],
   "source": []
  }
 ],
 "metadata": {
  "kernelspec": {
   "display_name": "Python 3",
   "language": "python",
   "name": "python3"
  },
  "language_info": {
   "codemirror_mode": {
    "name": "ipython",
    "version": 3
   },
   "file_extension": ".py",
   "mimetype": "text/x-python",
   "name": "python",
   "nbconvert_exporter": "python",
   "pygments_lexer": "ipython3",
   "version": "3.7.9"
  }
 },
 "nbformat": 4,
 "nbformat_minor": 5
}
